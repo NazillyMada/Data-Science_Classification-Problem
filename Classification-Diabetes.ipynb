{
 "metadata": {
  "language_info": {
   "codemirror_mode": {
    "name": "ipython",
    "version": 3
   },
   "file_extension": ".py",
   "mimetype": "text/x-python",
   "name": "python",
   "nbconvert_exporter": "python",
   "pygments_lexer": "ipython3",
   "version": "3.7.7-final"
  },
  "orig_nbformat": 2,
  "kernelspec": {
   "name": "python_defaultSpec_1599795349504",
   "display_name": "Python 3.7.7 64-bit"
  }
 },
 "nbformat": 4,
 "nbformat_minor": 2,
 "cells": [
  {
   "cell_type": "markdown",
   "metadata": {},
   "source": [
    "# Dataset Diabetes\n",
    "\n",
    "Some classification problem on pima-indians-diabetes.csv dataset"
   ]
  },
  {
   "cell_type": "code",
   "execution_count": 1,
   "metadata": {},
   "outputs": [],
   "source": [
    "import os\n",
    "import pandas as pd\n",
    "import matplotlib.pyplot as plt\n",
    "from sklearn.preprocessing import StandardScaler, PowerTransformer\n",
    "from sklearn.model_selection import train_test_split, cross_val_score\n",
    "from sklearn.metrics import f1_score, precision_score, recall_score\n",
    "from sklearn.linear_model import LogisticRegression\n",
    "from sklearn.neural_network import MLPClassifier\n",
    "from sklearn.neighbors import KNeighborsClassifier\n",
    "from sklearn.svm import SVC, LinearSVC\n",
    "from sklearn.gaussian_process import GaussianProcessClassifier\n",
    "from sklearn.gaussian_process.kernels import RBF\n",
    "from sklearn.tree import DecisionTreeClassifier\n",
    "from sklearn.ensemble import RandomForestClassifier, AdaBoostClassifier\n",
    "from sklearn.naive_bayes import GaussianNB"
   ]
  },
  {
   "cell_type": "code",
   "execution_count": 2,
   "metadata": {
    "tags": []
   },
   "outputs": [
    {
     "output_type": "stream",
     "name": "stdout",
     "text": "File ditemukan\n"
    }
   ],
   "source": [
    "directory = os.path.join('D:/Bootcamp ML - Mada/classification dataset/', 'pima-indians-diabetes.csv')\n",
    "if os.path.isfile(directory):\n",
    "  print(\"File ditemukan\")\n",
    "else:\n",
    "    print(\"tidak ada\")"
   ]
  },
  {
   "cell_type": "code",
   "execution_count": 3,
   "metadata": {},
   "outputs": [
    {
     "output_type": "execute_result",
     "data": {
      "text/plain": "   Pregnancies  Glucose  BloodPressure  SkinThickness  Insulin   BMI  \\\n0            6      148             72             35        0  33.6   \n1            1       85             66             29        0  26.6   \n2            8      183             64              0        0  23.3   \n3            1       89             66             23       94  28.1   \n4            0      137             40             35      168  43.1   \n\n   DiabetesPedigreeFunction  Age  Outcome  \n0                     0.627   50        1  \n1                     0.351   31        0  \n2                     0.672   32        1  \n3                     0.167   21        0  \n4                     2.288   33        1  ",
      "text/html": "<div>\n<style scoped>\n    .dataframe tbody tr th:only-of-type {\n        vertical-align: middle;\n    }\n\n    .dataframe tbody tr th {\n        vertical-align: top;\n    }\n\n    .dataframe thead th {\n        text-align: right;\n    }\n</style>\n<table border=\"1\" class=\"dataframe\">\n  <thead>\n    <tr style=\"text-align: right;\">\n      <th></th>\n      <th>Pregnancies</th>\n      <th>Glucose</th>\n      <th>BloodPressure</th>\n      <th>SkinThickness</th>\n      <th>Insulin</th>\n      <th>BMI</th>\n      <th>DiabetesPedigreeFunction</th>\n      <th>Age</th>\n      <th>Outcome</th>\n    </tr>\n  </thead>\n  <tbody>\n    <tr>\n      <th>0</th>\n      <td>6</td>\n      <td>148</td>\n      <td>72</td>\n      <td>35</td>\n      <td>0</td>\n      <td>33.6</td>\n      <td>0.627</td>\n      <td>50</td>\n      <td>1</td>\n    </tr>\n    <tr>\n      <th>1</th>\n      <td>1</td>\n      <td>85</td>\n      <td>66</td>\n      <td>29</td>\n      <td>0</td>\n      <td>26.6</td>\n      <td>0.351</td>\n      <td>31</td>\n      <td>0</td>\n    </tr>\n    <tr>\n      <th>2</th>\n      <td>8</td>\n      <td>183</td>\n      <td>64</td>\n      <td>0</td>\n      <td>0</td>\n      <td>23.3</td>\n      <td>0.672</td>\n      <td>32</td>\n      <td>1</td>\n    </tr>\n    <tr>\n      <th>3</th>\n      <td>1</td>\n      <td>89</td>\n      <td>66</td>\n      <td>23</td>\n      <td>94</td>\n      <td>28.1</td>\n      <td>0.167</td>\n      <td>21</td>\n      <td>0</td>\n    </tr>\n    <tr>\n      <th>4</th>\n      <td>0</td>\n      <td>137</td>\n      <td>40</td>\n      <td>35</td>\n      <td>168</td>\n      <td>43.1</td>\n      <td>2.288</td>\n      <td>33</td>\n      <td>1</td>\n    </tr>\n  </tbody>\n</table>\n</div>"
     },
     "metadata": {},
     "execution_count": 3
    }
   ],
   "source": [
    "dataset = pd.read_csv(directory)\n",
    "dataset.head()"
   ]
  },
  {
   "cell_type": "code",
   "execution_count": 4,
   "metadata": {
    "tags": []
   },
   "outputs": [
    {
     "output_type": "stream",
     "name": "stdout",
     "text": "<class 'pandas.core.frame.DataFrame'>\nRangeIndex: 768 entries, 0 to 767\nData columns (total 9 columns):\n #   Column                    Non-Null Count  Dtype  \n---  ------                    --------------  -----  \n 0   Pregnancies               768 non-null    int64  \n 1   Glucose                   768 non-null    int64  \n 2   BloodPressure             768 non-null    int64  \n 3   SkinThickness             768 non-null    int64  \n 4   Insulin                   768 non-null    int64  \n 5   BMI                       768 non-null    float64\n 6   DiabetesPedigreeFunction  768 non-null    float64\n 7   Age                       768 non-null    int64  \n 8   Outcome                   768 non-null    int64  \ndtypes: float64(2), int64(7)\nmemory usage: 54.1 KB\n"
    }
   ],
   "source": [
    "dataset.info()"
   ]
  },
  {
   "cell_type": "code",
   "execution_count": 5,
   "metadata": {
    "tags": []
   },
   "outputs": [
    {
     "output_type": "stream",
     "name": "stdout",
     "text": "0    500\n1    268\nName: Outcome, dtype: int64\n"
    }
   ],
   "source": [
    "print(dataset['Outcome'].value_counts())"
   ]
  },
  {
   "source": [
    "## Correlation matrix from every features on dataset"
   ],
   "cell_type": "markdown",
   "metadata": {}
  },
  {
   "cell_type": "code",
   "execution_count": 6,
   "metadata": {},
   "outputs": [
    {
     "output_type": "execute_result",
     "data": {
      "text/plain": "                     column  Correlation with median_house_value\n0                   Outcome                             1.000000\n1                   Glucose                             0.466581\n2                       BMI                             0.292695\n3                       Age                             0.238356\n4               Pregnancies                             0.221898\n5  DiabetesPedigreeFunction                             0.173844\n6                   Insulin                             0.130548\n7             SkinThickness                             0.074752\n8             BloodPressure                             0.065068",
      "text/html": "<div>\n<style scoped>\n    .dataframe tbody tr th:only-of-type {\n        vertical-align: middle;\n    }\n\n    .dataframe tbody tr th {\n        vertical-align: top;\n    }\n\n    .dataframe thead th {\n        text-align: right;\n    }\n</style>\n<table border=\"1\" class=\"dataframe\">\n  <thead>\n    <tr style=\"text-align: right;\">\n      <th></th>\n      <th>column</th>\n      <th>Correlation with median_house_value</th>\n    </tr>\n  </thead>\n  <tbody>\n    <tr>\n      <th>0</th>\n      <td>Outcome</td>\n      <td>1.000000</td>\n    </tr>\n    <tr>\n      <th>1</th>\n      <td>Glucose</td>\n      <td>0.466581</td>\n    </tr>\n    <tr>\n      <th>2</th>\n      <td>BMI</td>\n      <td>0.292695</td>\n    </tr>\n    <tr>\n      <th>3</th>\n      <td>Age</td>\n      <td>0.238356</td>\n    </tr>\n    <tr>\n      <th>4</th>\n      <td>Pregnancies</td>\n      <td>0.221898</td>\n    </tr>\n    <tr>\n      <th>5</th>\n      <td>DiabetesPedigreeFunction</td>\n      <td>0.173844</td>\n    </tr>\n    <tr>\n      <th>6</th>\n      <td>Insulin</td>\n      <td>0.130548</td>\n    </tr>\n    <tr>\n      <th>7</th>\n      <td>SkinThickness</td>\n      <td>0.074752</td>\n    </tr>\n    <tr>\n      <th>8</th>\n      <td>BloodPressure</td>\n      <td>0.065068</td>\n    </tr>\n  </tbody>\n</table>\n</div>"
     },
     "metadata": {},
     "execution_count": 6
    }
   ],
   "source": [
    "correlation_matrix = dataset.corr()\n",
    "corr = correlation_matrix['Outcome'].sort_values(ascending=False)\n",
    "correlation_dataframe = pd.DataFrame({'column': corr.index,\n",
    "                 'Correlation with median_house_value': corr.values})\n",
    "correlation_dataframe"
   ]
  },
  {
   "cell_type": "markdown",
   "metadata": {},
   "source": [
    "# Feature Engineering"
   ]
  },
  {
   "cell_type": "code",
   "execution_count": 7,
   "metadata": {},
   "outputs": [],
   "source": [
    "label = dataset['Outcome'] #--> Target Prediksi\n",
    "feature_used = dataset.drop(['Outcome',],axis=1) #--> Fitur yang digunakan adalah selain tabel 'Outcome'\n",
    "\n",
    "# Menggunakan 2 metode scalling, Standard dan Power Transform dengan yeo-jhonson\n",
    "scaler_1 = StandardScaler(with_std=True,with_mean=True)\n",
    "scaler_2 = PowerTransformer(method='yeo-johnson', standardize=True)\n",
    "\n",
    "feature_used_1 = scaler_1.fit_transform(feature_used)\n",
    "feature_used_2 = scaler_2.fit_transform(feature_used)\n",
    "\n",
    "data_x_1 = pd.DataFrame(feature_used_1, columns=feature_used.columns)\n",
    "data_x_2 = pd.DataFrame(feature_used_2, columns=feature_used.columns)\n"
   ]
  },
  {
   "cell_type": "code",
   "execution_count": 8,
   "metadata": {},
   "outputs": [],
   "source": [
    "def scores(obj, Predict, Feature2, Label2):\n",
    "    print('Accuracy   on test set: {:.3f}'.format(obj.score(Feature2, Label2)))\n",
    "    print('F1_score   on test set: {:.3f}'.format(f1_score(Label2, Predict, average='macro')))\n",
    "    print('Precision  on test set: {:.3f}'.format(precision_score(Label2, Predict, average='macro')))\n",
    "    print('Recall     on test set: {:.3f}'.format(recall_score(Label2, Predict, average='macro')))"
   ]
  },
  {
   "cell_type": "markdown",
   "metadata": {},
   "source": [
    "# SPLIT DATA 80-20"
   ]
  },
  {
   "cell_type": "markdown",
   "metadata": {},
   "source": [
    "# LOGISTIC REGRESSION"
   ]
  },
  {
   "cell_type": "code",
   "execution_count": 9,
   "metadata": {
    "tags": []
   },
   "outputs": [
    {
     "output_type": "stream",
     "name": "stdout",
     "text": "Menggunakan Standard Scaler\nCross Validation Score : [0.80487805 0.78861789 0.76422764 0.71544715 0.73770492]\nAccuracy   on test set: 0.812\nF1_score   on test set: 0.784\nPrecision  on test set: 0.793\nRecall     on test set: 0.778\n-----------------------------------------------------------------------------------------------------------------------------\n\nMenggunakan PowerTransform Scaller\nCross Validation Score : [0.80487805 0.78861789 0.76422764 0.71544715 0.73770492]\nAccuracy   on test set: 0.773\nF1_score   on test set: 0.742\nPrecision  on test set: 0.746\nRecall     on test set: 0.739\n"
    }
   ],
   "source": [
    "# Training menggunakan data hasil scalling dengan Standard Scaler\n",
    "feature_train, feature_test, label_train, label_test = train_test_split(data_x_1, label, test_size = 0.20, random_state=4)\n",
    "\n",
    "# Logistic Regression\n",
    "print(\"Menggunakan Standard Scaler\")\n",
    "logReg = LogisticRegression(tol=0.001)\n",
    "logReg.fit(feature_train,label_train)\n",
    "cross_val= cross_val_score(logReg, feature_train,label_train, cv=5)\n",
    "print(\"Cross Validation Score : \"+str(cross_val))\n",
    "prediction= logReg.predict(feature_test)\n",
    "scores(logReg, prediction, feature_test, label_test)\n",
    "\n",
    "print(\"-----------------------------------------------------------------------------------------------------------------------------\")\n",
    "print()\n",
    "\n",
    "print(\"Menggunakan PowerTransform Scaller\")\n",
    "# Training menggunakan data hasil scalling dengan Power Transform Scaler\n",
    "feature_train, feature_test, label_train, label_test = train_test_split(data_x_2, label, test_size = 0.20,random_state=4)\n",
    "logReg = LogisticRegression(tol=0.001)\n",
    "logReg.fit(feature_train,label_train)\n",
    "cross_val_= cross_val_score(logReg, feature_train,label_train, cv=5)\n",
    "print(\"Cross Validation Score : \"+str(cross_val))\n",
    "prediction= logReg.predict(feature_test)\n",
    "scores(logReg, prediction, feature_test, label_test)\n"
   ]
  },
  {
   "cell_type": "markdown",
   "metadata": {},
   "source": [
    "# MLP Classifier"
   ]
  },
  {
   "cell_type": "code",
   "execution_count": 10,
   "metadata": {
    "tags": []
   },
   "outputs": [
    {
     "output_type": "stream",
     "name": "stdout",
     "text": "Menggunakan Standard Scaler\nCross Validation Score : [0.80487805 0.78861789 0.76422764 0.71544715 0.73770492]\nAccuracy   on test set: 0.805\nF1_score   on test set: 0.778\nPrecision  on test set: 0.784\nRecall     on test set: 0.773\n-----------------------------------------------------------------------------------------------------------------------------\n\nMenggunakan PowerTransform Scaller\nCross Validation Score : [0.80487805 0.78861789 0.76422764 0.71544715 0.73770492]\nAccuracy   on test set: 0.773\nF1_score   on test set: 0.742\nPrecision  on test set: 0.746\nRecall     on test set: 0.739\n"
    }
   ],
   "source": [
    "print(\"Menggunakan Standard Scaler\")\n",
    "feature_train, feature_test, label_train, label_test = train_test_split(data_x_1, label, test_size = 0.20, random_state=4)\n",
    "mlc = MLPClassifier(hidden_layer_sizes=8, activation='identity',solver='lbfgs',batch_size='auto', learning_rate_init=0.001, max_iter=10000,early_stopping=False)\n",
    "mlc.fit(feature_train,label_train)\n",
    "cross_val_= cross_val_score(mlc, feature_train,label_train, cv=5)\n",
    "print(\"Cross Validation Score : \"+str(cross_val))\n",
    "prediction= mlc.predict(feature_test)\n",
    "scores(mlc, prediction, feature_test, label_test)\n",
    "\n",
    "print(\"-----------------------------------------------------------------------------------------------------------------------------\")\n",
    "print()\n",
    "\n",
    "print(\"Menggunakan PowerTransform Scaller\")\n",
    "feature_train, feature_test, label_train, label_test = train_test_split(data_x_2, label, test_size = 0.20, random_state=4)\n",
    "mlc= MLPClassifier(hidden_layer_sizes=8, activation='identity',solver='lbfgs',batch_size='auto', learning_rate_init=0.001, max_iter=10000, early_stopping=False)\n",
    "mlc.fit(feature_train,label_train)\n",
    "cross_val_= cross_val_score(mlc, feature_train, label_train, cv=5)\n",
    "print(\"Cross Validation Score : \"+str(cross_val))\n",
    "prediction= mlc.predict(feature_test)\n",
    "scores(mlc, prediction, feature_test, label_test)"
   ]
  },
  {
   "cell_type": "markdown",
   "metadata": {},
   "source": [
    "# Random Forest Classifier"
   ]
  },
  {
   "cell_type": "code",
   "execution_count": 11,
   "metadata": {
    "tags": []
   },
   "outputs": [
    {
     "output_type": "stream",
     "name": "stdout",
     "text": "Menggunakan Standard Scaler\nUntuk Estimator 5\nCross Validation Score : [0.80487805 0.78861789 0.76422764 0.71544715 0.73770492]\nAccuracy   on test set: 0.682\nF1_score   on test set: 0.618\nPrecision  on test set: 0.634\nRecall     on test set: 0.614\n\nMenggunakan PowerTransform Scaller\nCross Validation Score : [0.80487805 0.78861789 0.76422764 0.71544715 0.73770492]\nAccuracy   on test set: 0.714\nF1_score   on test set: 0.678\nPrecision  on test set: 0.679\nRecall     on test set: 0.676\n\n-----------------------------------------------------------------------------------------------------------------------------\nMenggunakan Standard Scaler\nUntuk Estimator 10\nCross Validation Score : [0.80487805 0.78861789 0.76422764 0.71544715 0.73770492]\nAccuracy   on test set: 0.766\nF1_score   on test set: 0.733\nPrecision  on test set: 0.739\nRecall     on test set: 0.729\n\nMenggunakan PowerTransform Scaller\nCross Validation Score : [0.80487805 0.78861789 0.76422764 0.71544715 0.73770492]\nAccuracy   on test set: 0.766\nF1_score   on test set: 0.724\nPrecision  on test set: 0.743\nRecall     on test set: 0.715\n\n-----------------------------------------------------------------------------------------------------------------------------\nMenggunakan Standard Scaler\nUntuk Estimator 20\nCross Validation Score : [0.80487805 0.78861789 0.76422764 0.71544715 0.73770492]\nAccuracy   on test set: 0.766\nF1_score   on test set: 0.721\nPrecision  on test set: 0.745\nRecall     on test set: 0.710\n\nMenggunakan PowerTransform Scaller\nCross Validation Score : [0.80487805 0.78861789 0.76422764 0.71544715 0.73770492]\nAccuracy   on test set: 0.760\nF1_score   on test set: 0.722\nPrecision  on test set: 0.732\nRecall     on test set: 0.715\n\n-----------------------------------------------------------------------------------------------------------------------------\nMenggunakan Standard Scaler\nUntuk Estimator 30\nCross Validation Score : [0.80487805 0.78861789 0.76422764 0.71544715 0.73770492]\nAccuracy   on test set: 0.740\nF1_score   on test set: 0.710\nPrecision  on test set: 0.710\nRecall     on test set: 0.710\n\nMenggunakan PowerTransform Scaller\nCross Validation Score : [0.80487805 0.78861789 0.76422764 0.71544715 0.73770492]\nAccuracy   on test set: 0.740\nF1_score   on test set: 0.707\nPrecision  on test set: 0.709\nRecall     on test set: 0.705\n\n-----------------------------------------------------------------------------------------------------------------------------\nMenggunakan Standard Scaler\nUntuk Estimator 50\nCross Validation Score : [0.80487805 0.78861789 0.76422764 0.71544715 0.73770492]\nAccuracy   on test set: 0.740\nF1_score   on test set: 0.697\nPrecision  on test set: 0.709\nRecall     on test set: 0.691\n\nMenggunakan PowerTransform Scaller\nCross Validation Score : [0.80487805 0.78861789 0.76422764 0.71544715 0.73770492]\nAccuracy   on test set: 0.740\nF1_score   on test set: 0.697\nPrecision  on test set: 0.709\nRecall     on test set: 0.691\n\n-----------------------------------------------------------------------------------------------------------------------------\nMenggunakan Standard Scaler\nUntuk Estimator 75\nCross Validation Score : [0.80487805 0.78861789 0.76422764 0.71544715 0.73770492]\nAccuracy   on test set: 0.773\nF1_score   on test set: 0.740\nPrecision  on test set: 0.747\nRecall     on test set: 0.734\n\nMenggunakan PowerTransform Scaller\nCross Validation Score : [0.80487805 0.78861789 0.76422764 0.71544715 0.73770492]\nAccuracy   on test set: 0.773\nF1_score   on test set: 0.742\nPrecision  on test set: 0.746\nRecall     on test set: 0.739\n\n-----------------------------------------------------------------------------------------------------------------------------\nMenggunakan Standard Scaler\nUntuk Estimator 100\nCross Validation Score : [0.80487805 0.78861789 0.76422764 0.71544715 0.73770492]\nAccuracy   on test set: 0.773\nF1_score   on test set: 0.745\nPrecision  on test set: 0.746\nRecall     on test set: 0.744\n\nMenggunakan PowerTransform Scaller\nCross Validation Score : [0.80487805 0.78861789 0.76422764 0.71544715 0.73770492]\nAccuracy   on test set: 0.747\nF1_score   on test set: 0.713\nPrecision  on test set: 0.716\nRecall     on test set: 0.710\n\n-----------------------------------------------------------------------------------------------------------------------------\nMenggunakan Standard Scaler\nUntuk Estimator 150\nCross Validation Score : [0.80487805 0.78861789 0.76422764 0.71544715 0.73770492]\nAccuracy   on test set: 0.753\nF1_score   on test set: 0.719\nPrecision  on test set: 0.724\nRecall     on test set: 0.715\n\nMenggunakan PowerTransform Scaller\nCross Validation Score : [0.80487805 0.78861789 0.76422764 0.71544715 0.73770492]\nAccuracy   on test set: 0.747\nF1_score   on test set: 0.710\nPrecision  on test set: 0.716\nRecall     on test set: 0.705\n\n-----------------------------------------------------------------------------------------------------------------------------\n"
    }
   ],
   "source": [
    "estimator =[5,10,20,30,50,75,100,150]\n",
    "for i in estimator:\n",
    "    print(\"Menggunakan Standard Scaler\")\n",
    "    feature_train, feature_test, label_train, label_test = train_test_split(data_x_1, label, test_size = 0.20, random_state=4)\n",
    "    print(\"Untuk Estimator \"+str(i))\n",
    "    rfc = RandomForestClassifier(i,criterion='gini',bootstrap=True,class_weight='balanced_subsample')\n",
    "    rfc.fit(feature_train,label_train)\n",
    "    cross_val_= cross_val_score(rfc, feature_train,label_train, cv=5)\n",
    "    print(\"Cross Validation Score : \"+str(cross_val))\n",
    "    prediction= rfc.predict(feature_test)\n",
    "    scores(rfc, prediction, feature_test, label_test)\n",
    "    print()\n",
    "\n",
    "    print(\"Menggunakan PowerTransform Scaller\")\n",
    "    feature_train, feature_test, label_train, label_test = train_test_split(data_x_2, label, test_size = 0.20, random_state=4)\n",
    "    rfc = RandomForestClassifier(i,criterion='gini',bootstrap=True,class_weight='balanced_subsample')\n",
    "    rfc.fit(feature_train,label_train)\n",
    "    cross_val_= cross_val_score(rfc, feature_train,label_train, cv=5)\n",
    "    print(\"Cross Validation Score : \"+str(cross_val))\n",
    "    prediction= rfc.predict(feature_test)\n",
    "    scores(rfc, prediction, feature_test, label_test)\n",
    "    print()\n",
    "    print(\"-----------------------------------------------------------------------------------------------------------------------------\")\n"
   ]
  },
  {
   "cell_type": "markdown",
   "metadata": {},
   "source": [
    "# Gaussian-Process Classifier"
   ]
  },
  {
   "cell_type": "code",
   "execution_count": 12,
   "metadata": {
    "tags": []
   },
   "outputs": [
    {
     "output_type": "stream",
     "name": "stdout",
     "text": "Menggunakan Standard Scaler\nCross Validation Score : [0.80487805 0.78861789 0.76422764 0.71544715 0.73770492]\nAccuracy   on test set: 0.766\nF1_score   on test set: 0.739\nPrecision  on test set: 0.739\nRecall     on test set: 0.739\n\nMenggunakan Power Transform Scaler\nCross Validation Score : [0.80487805 0.78861789 0.76422764 0.71544715 0.73770492]\nAccuracy   on test set: 0.773\nF1_score   on test set: 0.745\nPrecision  on test set: 0.746\nRecall     on test set: 0.744\n\n"
    }
   ],
   "source": [
    "print(\"Menggunakan Standard Scaler\")\n",
    "feature_train, feature_test, label_train, label_test = train_test_split(data_x_1, label, test_size = 0.20, random_state=4)\n",
    "kernel = 1.0 * RBF(1.0)\n",
    "gpc = GaussianProcessClassifier(kernel=kernel, max_iter_predict=100, optimizer='fmin_l_bfgs_b')\n",
    "gpc.fit(feature_train,label_train)\n",
    "cross_val_= cross_val_score(gpc, feature_train,label_train, cv=5)\n",
    "print(\"Cross Validation Score : \"+str(cross_val))\n",
    "prediction= gpc.predict(feature_test)\n",
    "scores(gpc, prediction, feature_test, label_test)\n",
    "print()\n",
    "\n",
    "print(\"Menggunakan Power Transform Scaler\")\n",
    "feature_train, feature_test, label_train, label_test = train_test_split(data_x_2, label, test_size = 0.20, random_state=4)\n",
    "kernel = 1.0 * RBF(1.0)\n",
    "gpc = GaussianProcessClassifier(kernel=kernel, max_iter_predict=100,optimizer='fmin_l_bfgs_b')\n",
    "gpc.fit(feature_train,label_train)\n",
    "cross_val_= cross_val_score(gpc, feature_train,label_train, cv=5)\n",
    "print(\"Cross Validation Score : \"+str(cross_val))\n",
    "prediction= gpc.predict(feature_test)\n",
    "scores(gpc, prediction, feature_test, label_test)\n",
    "print()"
   ]
  },
  {
   "cell_type": "markdown",
   "metadata": {},
   "source": [
    "# KNN Classifier"
   ]
  },
  {
   "cell_type": "code",
   "execution_count": 13,
   "metadata": {
    "tags": []
   },
   "outputs": [
    {
     "output_type": "stream",
     "name": "stdout",
     "text": "Menggunakan nilai k : 1\nMenggunakan Standard Scaler\nCross Validation Score : [0.80487805 0.78861789 0.76422764 0.71544715 0.73770492]\nAccuracy   on test set: 0.701\nF1_score   on test set: 0.666\nPrecision  on test set: 0.666\nRecall     on test set: 0.666\n\nMenggunakan Power Transform Scaler\nCross Validation Score : [0.80487805 0.78861789 0.76422764 0.71544715 0.73770492]\nAccuracy   on test set: 0.630\nF1_score   on test set: 0.599\nPrecision  on test set: 0.597\nRecall     on test set: 0.603\n\n-----------------------------------------------------------------------------------------------------------------------------\nMenggunakan nilai k : 3\nMenggunakan Standard Scaler\nCross Validation Score : [0.80487805 0.78861789 0.76422764 0.71544715 0.73770492]\nAccuracy   on test set: 0.747\nF1_score   on test set: 0.713\nPrecision  on test set: 0.716\nRecall     on test set: 0.710\n\nMenggunakan Power Transform Scaler\nCross Validation Score : [0.80487805 0.78861789 0.76422764 0.71544715 0.73770492]\nAccuracy   on test set: 0.701\nF1_score   on test set: 0.656\nPrecision  on test set: 0.662\nRecall     on test set: 0.652\n\n-----------------------------------------------------------------------------------------------------------------------------\nMenggunakan nilai k : 5\nMenggunakan Standard Scaler\nCross Validation Score : [0.80487805 0.78861789 0.76422764 0.71544715 0.73770492]\nAccuracy   on test set: 0.747\nF1_score   on test set: 0.703\nPrecision  on test set: 0.717\nRecall     on test set: 0.696\n\nMenggunakan Power Transform Scaler\nCross Validation Score : [0.80487805 0.78861789 0.76422764 0.71544715 0.73770492]\nAccuracy   on test set: 0.734\nF1_score   on test set: 0.704\nPrecision  on test set: 0.703\nRecall     on test set: 0.705\n\n-----------------------------------------------------------------------------------------------------------------------------\nMenggunakan nilai k : 7\nMenggunakan Standard Scaler\nCross Validation Score : [0.80487805 0.78861789 0.76422764 0.71544715 0.73770492]\nAccuracy   on test set: 0.753\nF1_score   on test set: 0.716\nPrecision  on test set: 0.724\nRecall     on test set: 0.710\n\nMenggunakan Power Transform Scaler\nCross Validation Score : [0.80487805 0.78861789 0.76422764 0.71544715 0.73770492]\nAccuracy   on test set: 0.727\nF1_score   on test set: 0.689\nPrecision  on test set: 0.694\nRecall     on test set: 0.686\n\n-----------------------------------------------------------------------------------------------------------------------------\nMenggunakan nilai k : 9\nMenggunakan Standard Scaler\nCross Validation Score : [0.80487805 0.78861789 0.76422764 0.71544715 0.73770492]\nAccuracy   on test set: 0.773\nF1_score   on test set: 0.740\nPrecision  on test set: 0.747\nRecall     on test set: 0.734\n\nMenggunakan Power Transform Scaler\nCross Validation Score : [0.80487805 0.78861789 0.76422764 0.71544715 0.73770492]\nAccuracy   on test set: 0.753\nF1_score   on test set: 0.719\nPrecision  on test set: 0.724\nRecall     on test set: 0.715\n\n-----------------------------------------------------------------------------------------------------------------------------\nMenggunakan nilai k : 11\nMenggunakan Standard Scaler\nCross Validation Score : [0.80487805 0.78861789 0.76422764 0.71544715 0.73770492]\nAccuracy   on test set: 0.773\nF1_score   on test set: 0.737\nPrecision  on test set: 0.748\nRecall     on test set: 0.729\n\nMenggunakan Power Transform Scaler\nCross Validation Score : [0.80487805 0.78861789 0.76422764 0.71544715 0.73770492]\nAccuracy   on test set: 0.734\nF1_score   on test set: 0.692\nPrecision  on test set: 0.701\nRecall     on test set: 0.686\n\n-----------------------------------------------------------------------------------------------------------------------------\nMenggunakan nilai k : 13\nMenggunakan Standard Scaler\nCross Validation Score : [0.80487805 0.78861789 0.76422764 0.71544715 0.73770492]\nAccuracy   on test set: 0.773\nF1_score   on test set: 0.734\nPrecision  on test set: 0.750\nRecall     on test set: 0.725\n\nMenggunakan Power Transform Scaler\nCross Validation Score : [0.80487805 0.78861789 0.76422764 0.71544715 0.73770492]\nAccuracy   on test set: 0.734\nF1_score   on test set: 0.692\nPrecision  on test set: 0.701\nRecall     on test set: 0.686\n\n-----------------------------------------------------------------------------------------------------------------------------\nMenggunakan nilai k : 15\nMenggunakan Standard Scaler\nCross Validation Score : [0.80487805 0.78861789 0.76422764 0.71544715 0.73770492]\nAccuracy   on test set: 0.753\nF1_score   on test set: 0.712\nPrecision  on test set: 0.725\nRecall     on test set: 0.705\n\nMenggunakan Power Transform Scaler\nCross Validation Score : [0.80487805 0.78861789 0.76422764 0.71544715 0.73770492]\nAccuracy   on test set: 0.753\nF1_score   on test set: 0.716\nPrecision  on test set: 0.724\nRecall     on test set: 0.710\n\n-----------------------------------------------------------------------------------------------------------------------------\n"
    }
   ],
   "source": [
    "numbers = 16\n",
    "for i in range(numbers):\n",
    "    if i %2 != 0 :\n",
    "        print(\"Menggunakan nilai k : \"+str(i))\n",
    "        print(\"Menggunakan Standard Scaler\")\n",
    "        feature_train, feature_test, label_train, label_test = train_test_split(data_x_1, label, test_size = 0.20, random_state=4)\n",
    "        knn = KNeighborsClassifier(i,weights='distance',algorithm='auto')\n",
    "        knn.fit(feature_train,label_train)\n",
    "        cross_val_= cross_val_score(knn, feature_train,label_train, cv=5)\n",
    "        print(\"Cross Validation Score : \"+str(cross_val))\n",
    "        prediction= knn.predict(feature_test)\n",
    "        scores(knn, prediction, feature_test, label_test)\n",
    "        print()\n",
    "\n",
    "        print(\"Menggunakan Power Transform Scaler\")\n",
    "        feature_train, feature_test, label_train, label_test = train_test_split(data_x_2, label, test_size = 0.20, random_state=4)\n",
    "        knn = KNeighborsClassifier(i,weights='distance',algorithm='auto')\n",
    "        knn.fit(feature_train,label_train)\n",
    "        cross_val_= cross_val_score(knn, feature_train,label_train, cv=5)\n",
    "        print(\"Cross Validation Score : \"+str(cross_val))\n",
    "        prediction= knn.predict(feature_test)\n",
    "        scores(knn, prediction, feature_test, label_test)\n",
    "        print()\n",
    "        print(\"-----------------------------------------------------------------------------------------------------------------------------\")"
   ]
  },
  {
   "cell_type": "markdown",
   "metadata": {},
   "source": [
    "# Adaboost Classifier"
   ]
  },
  {
   "cell_type": "code",
   "execution_count": 14,
   "metadata": {
    "tags": []
   },
   "outputs": [
    {
     "output_type": "stream",
     "name": "stdout",
     "text": "Menggunakan Standard Scaler\nUntuk Estimator 5\nCross Validation Score : [0.80487805 0.78861789 0.76422764 0.71544715 0.73770492]\nAccuracy   on test set: 0.792\nF1_score   on test set: 0.777\nPrecision  on test set: 0.771\nRecall     on test set: 0.791\n\nMenggunakan PowerTransform Scaller\nCross Validation Score : [0.80487805 0.78861789 0.76422764 0.71544715 0.73770492]\nAccuracy   on test set: 0.792\nF1_score   on test set: 0.777\nPrecision  on test set: 0.771\nRecall     on test set: 0.791\n\n-----------------------------------------------------------------------------------------------------------------------------\nMenggunakan Standard Scaler\nUntuk Estimator 10\nCross Validation Score : [0.80487805 0.78861789 0.76422764 0.71544715 0.73770492]\nAccuracy   on test set: 0.792\nF1_score   on test set: 0.777\nPrecision  on test set: 0.771\nRecall     on test set: 0.791\n\nMenggunakan PowerTransform Scaller\nCross Validation Score : [0.80487805 0.78861789 0.76422764 0.71544715 0.73770492]\nAccuracy   on test set: 0.792\nF1_score   on test set: 0.777\nPrecision  on test set: 0.771\nRecall     on test set: 0.791\n\n-----------------------------------------------------------------------------------------------------------------------------\nMenggunakan Standard Scaler\nUntuk Estimator 20\nCross Validation Score : [0.80487805 0.78861789 0.76422764 0.71544715 0.73770492]\nAccuracy   on test set: 0.792\nF1_score   on test set: 0.777\nPrecision  on test set: 0.771\nRecall     on test set: 0.791\n\nMenggunakan PowerTransform Scaller\nCross Validation Score : [0.80487805 0.78861789 0.76422764 0.71544715 0.73770492]\nAccuracy   on test set: 0.792\nF1_score   on test set: 0.777\nPrecision  on test set: 0.771\nRecall     on test set: 0.791\n\n-----------------------------------------------------------------------------------------------------------------------------\nMenggunakan Standard Scaler\nUntuk Estimator 30\nCross Validation Score : [0.80487805 0.78861789 0.76422764 0.71544715 0.73770492]\nAccuracy   on test set: 0.792\nF1_score   on test set: 0.777\nPrecision  on test set: 0.771\nRecall     on test set: 0.791\n\nMenggunakan PowerTransform Scaller\nCross Validation Score : [0.80487805 0.78861789 0.76422764 0.71544715 0.73770492]\nAccuracy   on test set: 0.792\nF1_score   on test set: 0.777\nPrecision  on test set: 0.771\nRecall     on test set: 0.791\n\n-----------------------------------------------------------------------------------------------------------------------------\nMenggunakan Standard Scaler\nUntuk Estimator 50\nCross Validation Score : [0.80487805 0.78861789 0.76422764 0.71544715 0.73770492]\nAccuracy   on test set: 0.792\nF1_score   on test set: 0.777\nPrecision  on test set: 0.771\nRecall     on test set: 0.791\n\nMenggunakan PowerTransform Scaller\nCross Validation Score : [0.80487805 0.78861789 0.76422764 0.71544715 0.73770492]\nAccuracy   on test set: 0.792\nF1_score   on test set: 0.777\nPrecision  on test set: 0.771\nRecall     on test set: 0.791\n\n-----------------------------------------------------------------------------------------------------------------------------\nMenggunakan Standard Scaler\nUntuk Estimator 75\nCross Validation Score : [0.80487805 0.78861789 0.76422764 0.71544715 0.73770492]\nAccuracy   on test set: 0.792\nF1_score   on test set: 0.777\nPrecision  on test set: 0.771\nRecall     on test set: 0.791\n\nMenggunakan PowerTransform Scaller\nCross Validation Score : [0.80487805 0.78861789 0.76422764 0.71544715 0.73770492]\nAccuracy   on test set: 0.792\nF1_score   on test set: 0.777\nPrecision  on test set: 0.771\nRecall     on test set: 0.791\n\n-----------------------------------------------------------------------------------------------------------------------------\nMenggunakan Standard Scaler\nUntuk Estimator 100\nCross Validation Score : [0.80487805 0.78861789 0.76422764 0.71544715 0.73770492]\nAccuracy   on test set: 0.792\nF1_score   on test set: 0.777\nPrecision  on test set: 0.771\nRecall     on test set: 0.791\n\nMenggunakan PowerTransform Scaller\nCross Validation Score : [0.80487805 0.78861789 0.76422764 0.71544715 0.73770492]\nAccuracy   on test set: 0.792\nF1_score   on test set: 0.777\nPrecision  on test set: 0.771\nRecall     on test set: 0.791\n\n-----------------------------------------------------------------------------------------------------------------------------\nMenggunakan Standard Scaler\nUntuk Estimator 150\nCross Validation Score : [0.80487805 0.78861789 0.76422764 0.71544715 0.73770492]\nAccuracy   on test set: 0.792\nF1_score   on test set: 0.777\nPrecision  on test set: 0.771\nRecall     on test set: 0.791\n\nMenggunakan PowerTransform Scaller\nCross Validation Score : [0.80487805 0.78861789 0.76422764 0.71544715 0.73770492]\nAccuracy   on test set: 0.792\nF1_score   on test set: 0.777\nPrecision  on test set: 0.771\nRecall     on test set: 0.791\n\n-----------------------------------------------------------------------------------------------------------------------------\n"
    }
   ],
   "source": [
    "estimator =[5,10,20,30,50,75,100,150]\n",
    "for i in estimator:\n",
    "    print(\"Menggunakan Standard Scaler\")\n",
    "    feature_train, feature_test, label_train, label_test = train_test_split(data_x_1, label, test_size = 0.20, random_state=4)\n",
    "    print(\"Untuk Estimator \"+str(i))\n",
    "    adc = AdaBoostClassifier(n_estimators=i,learning_rate=0.0001, random_state=10,algorithm='SAMME')\n",
    "    adc.fit(feature_train,label_train)\n",
    "    cross_val_= cross_val_score(adc, feature_train,label_train, cv=5)\n",
    "    print(\"Cross Validation Score : \"+str(cross_val))\n",
    "    prediction= adc.predict(feature_test)\n",
    "    scores(adc, prediction, feature_test, label_test)\n",
    "    print()\n",
    "\n",
    "    print(\"Menggunakan PowerTransform Scaller\")\n",
    "    feature_train, feature_test, label_train, label_test = train_test_split(data_x_2, label, test_size = 0.20, random_state=4)\n",
    "    adc = AdaBoostClassifier(n_estimators=i,learning_rate=0.0001, random_state=10,algorithm='SAMME')\n",
    "    adc.fit(feature_train,label_train)\n",
    "    cross_val_= cross_val_score(adc, feature_train,label_train, cv=5)\n",
    "    print(\"Cross Validation Score : \"+str(cross_val))\n",
    "    prediction= adc.predict(feature_test)\n",
    "    scores(adc, prediction, feature_test, label_test)\n",
    "    print()\n",
    "    print(\"-----------------------------------------------------------------------------------------------------------------------------\")"
   ]
  },
  {
   "cell_type": "markdown",
   "metadata": {},
   "source": [
    "# Decision Tree Classifier"
   ]
  },
  {
   "cell_type": "code",
   "execution_count": 15,
   "metadata": {
    "tags": []
   },
   "outputs": [
    {
     "output_type": "stream",
     "name": "stdout",
     "text": "Menggunakan Standard Scaler\nCross Validation Score : [0.80487805 0.78861789 0.76422764 0.71544715 0.73770492]\nAccuracy   on test set: 0.727\nF1_score   on test set: 0.703\nPrecision  on test set: 0.699\nRecall     on test set: 0.709\n\nMenggunakan PowerTransform Scaller\nCross Validation Score : [0.80487805 0.78861789 0.76422764 0.71544715 0.73770492]\nAccuracy   on test set: 0.740\nF1_score   on test set: 0.721\nPrecision  on test set: 0.717\nRecall     on test set: 0.733\n\n"
    }
   ],
   "source": [
    "feature_train, feature_test, label_train, label_test = train_test_split(data_x_1, label, test_size = 0.20, random_state=4)\n",
    "print(\"Menggunakan Standard Scaler\")\n",
    "dtc=DecisionTreeClassifier(criterion='entropy',splitter='best',class_weight='balanced')\n",
    "dtc.fit(feature_train,label_train)\n",
    "cross_val_= cross_val_score(dtc, feature_train,label_train, cv=5)\n",
    "print(\"Cross Validation Score : \"+str(cross_val))\n",
    "prediction= dtc.predict(feature_test)\n",
    "scores(dtc, prediction, feature_test, label_test)\n",
    "print()\n",
    "\n",
    "print(\"Menggunakan PowerTransform Scaller\")\n",
    "feature_train, feature_test, label_train, label_test = train_test_split(data_x_2, label, test_size = 0.20, random_state=4)\n",
    "dtc = DecisionTreeClassifier(criterion='entropy',splitter='best',class_weight='balanced')\n",
    "dtc.fit(feature_train,label_train)\n",
    "cross_val_= cross_val_score(dtc, feature_train,label_train, cv=5)\n",
    "print(\"Cross Validation Score : \"+str(cross_val))\n",
    "prediction= dtc.predict(feature_test)\n",
    "scores(dtc, prediction, feature_test, label_test)\n",
    "print()"
   ]
  },
  {
   "cell_type": "markdown",
   "metadata": {},
   "source": [
    "# Gaussian Naive-Bayes"
   ]
  },
  {
   "cell_type": "code",
   "execution_count": 16,
   "metadata": {
    "tags": []
   },
   "outputs": [
    {
     "output_type": "stream",
     "name": "stdout",
     "text": "Menggunakan Standard Scaler\nCross Validation Score : [0.80487805 0.78861789 0.76422764 0.71544715 0.73770492]\nAccuracy   on test set: 0.760\nF1_score   on test set: 0.733\nPrecision  on test set: 0.732\nRecall     on test set: 0.734\n\nMenggunakan PowerTransform Scaller\nCross Validation Score : [0.80487805 0.78861789 0.76422764 0.71544715 0.73770492]\nAccuracy   on test set: 0.773\nF1_score   on test set: 0.747\nPrecision  on test set: 0.746\nRecall     on test set: 0.748\n\n"
    }
   ],
   "source": [
    "feature_train, feature_test, label_train, label_test = train_test_split(data_x_1, label, test_size = 0.20, random_state=4)\n",
    "print(\"Menggunakan Standard Scaler\")\n",
    "gnb=GaussianNB()\n",
    "gnb.fit(feature_train,label_train)\n",
    "cross_val_= cross_val_score(gnb, feature_train,label_train, cv=5)\n",
    "print(\"Cross Validation Score : \"+str(cross_val))\n",
    "prediction= gnb.predict(feature_test)\n",
    "scores(gnb, prediction, feature_test, label_test)\n",
    "print()\n",
    "\n",
    "print(\"Menggunakan PowerTransform Scaller\")\n",
    "feature_train, feature_test, label_train, label_test = train_test_split(data_x_2, label, test_size = 0.20, random_state=4)\n",
    "gnb=GaussianNB()\n",
    "gnb.fit(feature_train,label_train)\n",
    "cross_val_= cross_val_score(gnb, feature_train,label_train, cv=5)\n",
    "print(\"Cross Validation Score : \"+str(cross_val))\n",
    "prediction= gnb.predict(feature_test)\n",
    "scores(gnb, prediction, feature_test, label_test)\n",
    "print()"
   ]
  },
  {
   "cell_type": "markdown",
   "metadata": {},
   "source": [
    "# SVC"
   ]
  },
  {
   "cell_type": "code",
   "execution_count": 21,
   "metadata": {
    "tags": []
   },
   "outputs": [
    {
     "output_type": "stream",
     "name": "stdout",
     "text": "Menggunakan kernel : poly\nMenggunakan Standard Scaler\nCross Validation Score : [0.80487805 0.78861789 0.76422764 0.71544715 0.73770492]\nAccuracy   on test set: 0.682\nF1_score   on test set: 0.646\nPrecision  on test set: 0.645\nRecall     on test set: 0.647\n\nMenggunakan Power Transform Scaler\nCross Validation Score : [0.80487805 0.78861789 0.76422764 0.71544715 0.73770492]\nAccuracy   on test set: 0.675\nF1_score   on test set: 0.634\nPrecision  on test set: 0.635\nRecall     on test set: 0.632\n\n-----------------------------------------------------------------------------------------------------------------------------\nMenggunakan kernel : linear\nMenggunakan Standard Scaler\nCross Validation Score : [0.80487805 0.78861789 0.76422764 0.71544715 0.73770492]\nAccuracy   on test set: 0.740\nF1_score   on test set: 0.719\nPrecision  on test set: 0.715\nRecall     on test set: 0.729\n\nMenggunakan Power Transform Scaler\nCross Validation Score : [0.80487805 0.78861789 0.76422764 0.71544715 0.73770492]\nAccuracy   on test set: 0.740\nF1_score   on test set: 0.725\nPrecision  on test set: 0.722\nRecall     on test set: 0.743\n\n-----------------------------------------------------------------------------------------------------------------------------\nMenggunakan kernel : rbf\nMenggunakan Standard Scaler\nCross Validation Score : [0.80487805 0.78861789 0.76422764 0.71544715 0.73770492]\nAccuracy   on test set: 0.649\nF1_score   on test set: 0.618\nPrecision  on test set: 0.616\nRecall     on test set: 0.622\n\nMenggunakan Power Transform Scaler\nCross Validation Score : [0.80487805 0.78861789 0.76422764 0.71544715 0.73770492]\nAccuracy   on test set: 0.727\nF1_score   on test set: 0.698\nPrecision  on test set: 0.696\nRecall     on test set: 0.700\n\n-----------------------------------------------------------------------------------------------------------------------------\n"
    }
   ],
   "source": [
    "kernels=['poly','linear','rbf']\n",
    "for i, value in enumerate(kernels):\n",
    "    print(\"Menggunakan kernel : \"+str(value))\n",
    "    feature_train, feature_test, label_train, label_test = train_test_split(data_x_1, label, test_size = 0.20, random_state=4)\n",
    "    print(\"Menggunakan Standard Scaler\")\n",
    "    svl=SVC(kernel= value, C=1000,gamma='scale',tol=0.0001,class_weight='balanced',degree=3,coef0=1)\n",
    "    svl.fit(feature_train,label_train)\n",
    "    cross_val_= cross_val_score(svl, feature_train,label_train, cv=5)\n",
    "    print(\"Cross Validation Score : \"+str(cross_val))\n",
    "    prediction= svl.predict(feature_test)\n",
    "    scores(svl, prediction, feature_test, label_test)\n",
    "    print()\n",
    "\n",
    "    feature_train, feature_test, label_train, label_test = train_test_split(data_x_2, label, test_size = 0.20, random_state=4)\n",
    "    print(\"Menggunakan Power Transform Scaler\")\n",
    "    svl=SVC(kernel= value, C=1000,gamma='scale',tol=0.0001,class_weight='balanced',degree=3,coef0=1)\n",
    "    svl.fit(feature_train,label_train)\n",
    "    cross_val_= cross_val_score(svl, feature_train,label_train, cv=5)\n",
    "    print(\"Cross Validation Score : \"+str(cross_val))\n",
    "    prediction= svl.predict(feature_test)\n",
    "    scores(svl, prediction, feature_test, label_test)\n",
    "    print()\n",
    "    print(\"-----------------------------------------------------------------------------------------------------------------------------\")"
   ]
  },
  {
   "cell_type": "markdown",
   "metadata": {},
   "source": [
    "# LinearSVC"
   ]
  },
  {
   "cell_type": "code",
   "execution_count": 23,
   "metadata": {
    "tags": []
   },
   "outputs": [
    {
     "output_type": "stream",
     "name": "stdout",
     "text": "Menggunakan Standard Scaler\nCross Validation Score : [0.80487805 0.78861789 0.76422764 0.71544715 0.73770492]\nAccuracy   on test set: 0.701\nF1_score   on test set: 0.721\nPrecision  on test set: 0.717\nRecall     on test set: 0.733\n\nMenggunakan Power Transform Scaler\nCross Validation Score : [0.80487805 0.78861789 0.76422764 0.71544715 0.73770492]\nAccuracy   on test set: 0.727\nF1_score   on test set: 0.725\nPrecision  on test set: 0.722\nRecall     on test set: 0.743\n\n"
    }
   ],
   "source": [
    "feature_train, feature_test, label_train, label_test = train_test_split(data_x_1, label, test_size = 0.20, random_state=4)\n",
    "print(\"Menggunakan Standard Scaler\")\n",
    "linearsvc = LinearSVC(class_weight='balanced',max_iter=1000,loss='hinge')\n",
    "linearsvc.fit(feature_train,label_train)\n",
    "cross_val_= cross_val_score(linearsvc, feature_train,label_train, cv=5)\n",
    "print(\"Cross Validation Score : \"+str(cross_val))\n",
    "prediction= linearsvc.predict(feature_test)\n",
    "scores(svl, prediction, feature_test, label_test)\n",
    "print()\n",
    "\n",
    "feature_train, feature_test, label_train, label_test = train_test_split(data_x_2, label, test_size = 0.20, random_state=4)\n",
    "print(\"Menggunakan Power Transform Scaler\")\n",
    "linearsvc = LinearSVC(class_weight='balanced',max_iter=1000,loss='hinge')\n",
    "linearsvc.fit(feature_train,label_train)\n",
    "cross_val_= cross_val_score(linearsvc, feature_train,label_train, cv=5)\n",
    "print(\"Cross Validation Score : \"+str(cross_val))\n",
    "prediction= linearsvc.predict(feature_test)\n",
    "scores(svl, prediction, feature_test, label_test)\n",
    "print()"
   ]
  },
  {
   "cell_type": "markdown",
   "metadata": {},
   "source": [
    "# Kesimpulan\n",
    "\n",
    "Pada percobaan diatas, menggunakan dataset 'Diabetes'. digunakan 10 algoritma untuk mengklasifikasi data menjadi 2 kelas\n",
    "yaitu 0 = 'Tidak terkena Diabetes' , 1 = 'Terkena Diabetes' .\n",
    "\n",
    "Dataset tersebut di-scaling dengan 2 scaler, yaitu 'Standard scaler' dan 'Power Transform'.\n",
    "\n",
    "* Algoritma LogisticRegression mendapat nilai akurasi dan precision\n",
    "\n",
    "    Standard scaler : 0.812 dan 0.793 , Power Transform : 0.773 dan 0,743\n",
    "\n",
    "* Algoritma MLP Classifier mendapat nilai akurasi dan precision\n",
    "\n",
    "    Standard scaler : 0.805 dan 0.784 , Power Transform : 0.773 dan 0.746\n",
    "\n",
    "* Algoritma RandomForest Classifier mendapat nilai akurasi dan precision\n",
    "yang terbaik ada pada nilai estimator 75, dengan :\n",
    "\n",
    "    Standard scaler : 0.773 dan 0.743 , Power Transform : 0.773 dan 0.746\n",
    "\n",
    "* Algoritma KNN Classifier mendapat nilai akurasi dan precision\n",
    "yang terbaik ada pada nilai k = 9, dengan :\n",
    "\n",
    "    Standard scaler : 0.773 dan 0.743 , Power Transform : 0.753 dan 0.724\n",
    "\n",
    "* Algoritma Adaboost Classifier mendapat nilai akurasi dan precision\n",
    "yang terbaik ada pada nilai estimator 5, dengan :\n",
    "\n",
    "    Standard scaler : 0.792 dan 0.771 , Power Transform : 0.792 dan 0.771\n",
    "\n",
    "* Algoritma Decision Tree Classifier mendapat nilai akurasi dan precision\n",
    "\n",
    "    Standard scaler : 0.727 dan 0.699 , Power Transform : 0.740 dan 0.717\n",
    "\n",
    "* Algoritma Gaussian Naive-Bayes mendapat nilai akurasi dan precision\n",
    "\n",
    "    Standard scaler : 0.760 dan 0.732 , Power Transform : 0.773 dan 0.746\n",
    "\n",
    "* Algoritma SVC yang mendapat nilai terbaik menggunakan kernel 'linear'\n",
    "dengan nilai akurasi dan precision\n",
    "\n",
    "    Standard scaler : 0.740 dan 0.715 , Power Transform : 0.740 dan 0.722\n",
    "\n",
    "* Algoritma LinearSVC mendapat nilai akurasi dan precision\n",
    "\n",
    "    Standard scaler : 0.701 dan 0.717 , Power Transform : 0.727, 0.722\n",
    "\n",
    "Dari hasil percobaan diatas, algoritma LogisticRegression dengan menggunakan data yang\n",
    "di-scaling dengan Standar scaler mendapat hasil akurasi yang terbaik sebesar 0.812\n",
    "\n",
    "Maka, dapat disimpulkan bahwa penggunaan Standard scaler pada dataset ini sudah mencukupi\n",
    "untuk bisa mendapat nilai akurasi dan precision yang cukup baik pada kebanyakan algoritma yang digunakan. \n",
    "Tapi, dalam beberapa algoritma akan lebih baik hasilnya jika menggunakan Power Transform scaler.\n",
    "\n",
    "Hasil klasifikasi yang didapatkan oleh model algoritma dapat dipengaruhi oleh banyak faktor,\n",
    "salah satunya adalah penggunaan Hyperparameter pada tiap algoritma"
   ]
  }
 ]
}